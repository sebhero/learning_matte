{
 "cells": [
  {
   "cell_type": "markdown",
   "metadata": {},
   "source": [
    "# Primitiva funktioner\n",
    "## variabelbyte\n",
    "\n"
   ]
  },
  {
   "cell_type": "markdown",
   "metadata": {},
   "source": [
    "ex:\n",
    "\n",
    "$\\displaystyle \\int \\frac{1}{x+\\sqrt{x}} dx$\n",
    "\n",
    "$ =\\left [\\begin{array}{ll1}\n",
    "t = \\sqrt(x) & <=>  & x = t^2 & (t > 0)\n",
    "\\\\ & \n",
    "\\end{array}\\right]=$\n",
    "\n"
   ]
  },
  {
   "cell_type": "markdown",
   "metadata": {},
   "source": [
    "$ = \\displaystyle \\int \\frac{1}{t^2 + t} dx$\n",
    "\n",
    "Kedjeregeln: låt F vara primitiv till f\n",
    "\n",
    "alltså\n",
    "\n",
    "$ = \\displaystyle \\int F(g(t))' C = \\displaystyle \\int f(g(t)) * g'(t) dt$"
   ]
  },
  {
   "cell_type": "markdown",
   "metadata": {},
   "source": [
    "$ = \\displaystyle \\int \\frac{1}{x + \\sqrt{x}} dx$ \n",
    "\n",
    "$ =\\left [\\begin{array}{ll}\n",
    "t = \\sqrt(x) & <=>  & x = g(t) = t^2 & (t > 0)\n",
    "\\\\ g'(t) = 2t\n",
    "\\end{array}\\right]=$\n",
    "\n",
    "$ = \\displaystyle \\int \\frac{1}{t^2 + t} * 2t \\ dt $ \n",
    "\n",
    "$ = 2\\ln \\left| t+1 \\right| +C $ \n",
    "\n",
    "$= 2\\ln(\\sqrt{x}+1)+C$ <-- svar"
   ]
  },
  {
   "cell_type": "markdown",
   "metadata": {},
   "source": [
    "---\n",
    "\n",
    "$\\frac{dx}{dt} = g'(t) => dx = g'(t) dt $\n",
    "\n",
    "$f(x) dx = f(g(t))g'(t) dt$"
   ]
  },
  {
   "cell_type": "markdown",
   "metadata": {},
   "source": [
    "Ex:\n",
    "(x > 1)\n",
    "$ \\displaystyle \\int \\frac{1}{x\\ln x} dx =$\n",
    "\n",
    "$ =\\left [\\begin{array}{ll}\n",
    "t = \\ln x  & <=>  & x = e^t\n",
    "\\\\ \\frac{dx}{dt} = e^t => dx = e^t dt\n",
    "\\end{array}\\right]=$\n",
    "\n",
    "$= \\displaystyle \\int \\frac{1}{e^t * t}*e^t dt$\n",
    "\n",
    "$= \\displaystyle \\int \\frac{1}{t} dt$\n",
    "\n",
    "$= \\ln \\left| t \\right| +C $\n",
    "\n",
    "$= \\ln \\left| ln x \\right| + C = \\ln(\\ln x) + C$"
   ]
  },
  {
   "cell_type": "markdown",
   "metadata": {},
   "source": [
    "Ex: \n",
    "\n",
    "$\\displaystyle \\int x\\sqrt{x+2} \\ \\ dx$\n",
    "\n",
    "$ =\\left [\\begin{array}{ll}\n",
    "t = \\sqrt(x+2) & <=>  &  t^2 =x+2& (t > 0)\n",
    "\\\\ <=> x = t^2-2, \\frac{dx}{dt} = 2t\n",
    "\\end{array}\\right]=$\n",
    "\n",
    "$= displaystyle \\int (t^2-2)t * 2t \\ \\ dt$\n",
    "\n",
    "$= displaystyle \\int 2t^4-4t^2 \\ \\ dt$\n",
    "\n",
    "$= \\frac{2}{5}t^5-\\frac{4}{3}t^3 + C$\n",
    "\n",
    "$= \\frac{2}{5}(\\sqrt{x+2})^{5/2}-\\frac{4}{3}(\\sqrt{x+2})^{3/2} + C$"
   ]
  },
  {
   "cell_type": "markdown",
   "metadata": {},
   "source": [
    "Ex:\n",
    "\n",
    "$\\displaystyle \\int \\frac{\\cos x}{\\sin^3 x} dx$\n",
    "\n",
    "$= \\displaystyle \\int \\frac{1}{\\sin^3 x}*\\cos x \\ dx$\n",
    "\n",
    "$= \\displaystyle \\int (\\sin x)^-3*\\cos x \\ dx$\n",
    "\n",
    "$= \\frac{1}{-2}(\\sin x)^-2 +C$\n",
    "$= \\frac{1}{-2}*\\frac{1}{\\sin^2 x} +C$\n",
    "\n",
    "svar: $= -\\frac{1}{2}*\\frac{1}{\\sin^2 x} +C$\n"
   ]
  },
  {
   "cell_type": "markdown",
   "metadata": {},
   "source": [
    "Alt:\n",
    "\n",
    "$\\displaystyle \\int \\frac{\\cos x}{\\sin^3 x} dx$\n",
    "\n",
    "$ =\\left [\\begin{array}{ll}\n",
    "t = \\sin x\n",
    "\\\\  \\frac{dx}{dt} = \\cos x & => dt => & \\cos x \\ dx\n",
    "\\end{array}\\right]=$\n",
    "\n",
    "$\\displaystyle \\int \\frac{1}{t^3} dt$\n",
    "\n",
    "$dt = \\cos x *dx$\n",
    "\n",
    "$\\displaystyle \\int \\frac{1}{t^{-3}} dt$\n",
    "\n",
    "$= -\\frac{1}{2}t^{-2}  + C$\n",
    "\n",
    "$= -\\frac{1}{2}\\sin^{-2}x  + C$\n",
    "\n",
    "$= -\\frac{1}{2}\\frac{1}{\\sin^2 x}   + C$\n"
   ]
  }
 ],
 "metadata": {
  "anaconda-cloud": {},
  "kernelspec": {
   "display_name": "Python [default]",
   "language": "python",
   "name": "python3"
  },
  "language_info": {
   "codemirror_mode": {
    "name": "ipython",
    "version": 3
   },
   "file_extension": ".py",
   "mimetype": "text/x-python",
   "name": "python",
   "nbconvert_exporter": "python",
   "pygments_lexer": "ipython3",
   "version": "3.5.2"
  }
 },
 "nbformat": 4,
 "nbformat_minor": 1
}
